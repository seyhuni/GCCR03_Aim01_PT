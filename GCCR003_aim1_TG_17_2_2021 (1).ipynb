{
 "cells": [
  {
   "cell_type": "markdown",
   "metadata": {},
   "source": [
    "# Import libraries"
   ]
  },
  {
   "cell_type": "code",
   "execution_count": 66,
   "metadata": {},
   "outputs": [],
   "source": [
    "import pandas as pd\n",
    "import datetime as dt"
   ]
  },
  {
   "cell_type": "markdown",
   "metadata": {},
   "source": [
    "# Import data"
   ]
  },
  {
   "cell_type": "code",
   "execution_count": 113,
   "metadata": {},
   "outputs": [],
   "source": [
    "data = pd.read_csv(r'C:/Users/tom3r/OneDrive/Desktop/GCCR003_pre-pst-merge_deID_dd_dn_manualcln_v1.csv',encoding= 'unicode_escape')"
   ]
  },
  {
   "cell_type": "markdown",
   "metadata": {},
   "source": [
    "# Pre-Process"
   ]
  },
  {
   "cell_type": "code",
   "execution_count": 58,
   "metadata": {},
   "outputs": [
    {
     "name": "stdout",
     "output_type": "stream",
     "text": [
      "<class 'pandas.core.frame.DataFrame'>\n",
      "RangeIndex: 3392 entries, 0 to 3391\n",
      "Columns: 189 entries, Unnamed: 0 to Unnamed: 0.1\n",
      "dtypes: float64(99), int64(7), object(83)\n",
      "memory usage: 4.9+ MB\n"
     ]
    }
   ],
   "source": [
    "data.info()"
   ]
  },
  {
   "cell_type": "code",
   "execution_count": 10,
   "metadata": {},
   "outputs": [
    {
     "data": {
      "text/html": [
       "<div>\n",
       "<style scoped>\n",
       "    .dataframe tbody tr th:only-of-type {\n",
       "        vertical-align: middle;\n",
       "    }\n",
       "\n",
       "    .dataframe tbody tr th {\n",
       "        vertical-align: top;\n",
       "    }\n",
       "\n",
       "    .dataframe thead th {\n",
       "        text-align: right;\n",
       "    }\n",
       "</style>\n",
       "<table border=\"1\" class=\"dataframe\">\n",
       "  <thead>\n",
       "    <tr style=\"text-align: right;\">\n",
       "      <th></th>\n",
       "      <th>Unnamed: 0</th>\n",
       "      <th>Sample_Set_Number_x</th>\n",
       "      <th>Year_of_birth</th>\n",
       "      <th>Gender</th>\n",
       "      <th>Respiratory_Illness_y/n</th>\n",
       "      <th>COVID_diagnosis_x</th>\n",
       "      <th>Other_viral_or_respiratory_illnesses_strep_throat_(streptococcal_bacteria)</th>\n",
       "      <th>Other_viral_or_respiratory_illnesses_another_bacterial_illness</th>\n",
       "      <th>Other_viral_or_respiratory_illnesses_flu_(influenza)</th>\n",
       "      <th>Other_viral_or_respiratory_illnesses_another_viral_illness</th>\n",
       "      <th>...</th>\n",
       "      <th>Symptoms_loss_of_appetite_y</th>\n",
       "      <th>Symptoms_headache_y</th>\n",
       "      <th>Symptoms_muscle_aches_y</th>\n",
       "      <th>Symptoms_fatigue_y</th>\n",
       "      <th>Symptoms_diarrhea_y</th>\n",
       "      <th>Symptoms_abdominal_pain_y</th>\n",
       "      <th>Symptoms_nausea_y</th>\n",
       "      <th>Symptoms_no_symptoms_y</th>\n",
       "      <th>Sample_Completion_Time</th>\n",
       "      <th>Unnamed: 0.1</th>\n",
       "    </tr>\n",
       "  </thead>\n",
       "  <tbody>\n",
       "    <tr>\n",
       "      <th>count</th>\n",
       "      <td>3392.000000</td>\n",
       "      <td>3392.000000</td>\n",
       "      <td>3392.000000</td>\n",
       "      <td>3392.000000</td>\n",
       "      <td>3392.000000</td>\n",
       "      <td>3362.000000</td>\n",
       "      <td>3362.000000</td>\n",
       "      <td>3362.000000</td>\n",
       "      <td>3362.000000</td>\n",
       "      <td>3362.000000</td>\n",
       "      <td>...</td>\n",
       "      <td>3254.000000</td>\n",
       "      <td>3254.000000</td>\n",
       "      <td>3254.000000</td>\n",
       "      <td>3254.000000</td>\n",
       "      <td>3254.000000</td>\n",
       "      <td>3254.000000</td>\n",
       "      <td>3254.000000</td>\n",
       "      <td>3254.000000</td>\n",
       "      <td>0.0</td>\n",
       "      <td>16.000000</td>\n",
       "    </tr>\n",
       "    <tr>\n",
       "      <th>mean</th>\n",
       "      <td>4369.319575</td>\n",
       "      <td>4178.463443</td>\n",
       "      <td>1976.589328</td>\n",
       "      <td>0.283019</td>\n",
       "      <td>0.991156</td>\n",
       "      <td>2.841761</td>\n",
       "      <td>0.012790</td>\n",
       "      <td>0.010708</td>\n",
       "      <td>0.020226</td>\n",
       "      <td>0.014575</td>\n",
       "      <td>...</td>\n",
       "      <td>0.054702</td>\n",
       "      <td>0.138291</td>\n",
       "      <td>0.095882</td>\n",
       "      <td>0.240627</td>\n",
       "      <td>0.038722</td>\n",
       "      <td>0.041487</td>\n",
       "      <td>0.035648</td>\n",
       "      <td>0.364782</td>\n",
       "      <td>NaN</td>\n",
       "      <td>2319.437500</td>\n",
       "    </tr>\n",
       "    <tr>\n",
       "      <th>std</th>\n",
       "      <td>1124.888664</td>\n",
       "      <td>2489.952151</td>\n",
       "      <td>12.799326</td>\n",
       "      <td>0.467871</td>\n",
       "      <td>0.093641</td>\n",
       "      <td>1.748363</td>\n",
       "      <td>0.112384</td>\n",
       "      <td>0.102939</td>\n",
       "      <td>0.140794</td>\n",
       "      <td>0.119860</td>\n",
       "      <td>...</td>\n",
       "      <td>0.227432</td>\n",
       "      <td>0.345259</td>\n",
       "      <td>0.294475</td>\n",
       "      <td>0.427530</td>\n",
       "      <td>0.192960</td>\n",
       "      <td>0.199445</td>\n",
       "      <td>0.185441</td>\n",
       "      <td>0.481443</td>\n",
       "      <td>NaN</td>\n",
       "      <td>1551.024649</td>\n",
       "    </tr>\n",
       "    <tr>\n",
       "      <th>min</th>\n",
       "      <td>0.000000</td>\n",
       "      <td>2.000000</td>\n",
       "      <td>1936.000000</td>\n",
       "      <td>0.000000</td>\n",
       "      <td>0.000000</td>\n",
       "      <td>1.000000</td>\n",
       "      <td>0.000000</td>\n",
       "      <td>0.000000</td>\n",
       "      <td>0.000000</td>\n",
       "      <td>0.000000</td>\n",
       "      <td>...</td>\n",
       "      <td>0.000000</td>\n",
       "      <td>0.000000</td>\n",
       "      <td>0.000000</td>\n",
       "      <td>0.000000</td>\n",
       "      <td>0.000000</td>\n",
       "      <td>0.000000</td>\n",
       "      <td>0.000000</td>\n",
       "      <td>0.000000</td>\n",
       "      <td>NaN</td>\n",
       "      <td>262.000000</td>\n",
       "    </tr>\n",
       "    <tr>\n",
       "      <th>25%</th>\n",
       "      <td>3446.750000</td>\n",
       "      <td>2053.500000</td>\n",
       "      <td>1967.000000</td>\n",
       "      <td>0.000000</td>\n",
       "      <td>1.000000</td>\n",
       "      <td>1.000000</td>\n",
       "      <td>0.000000</td>\n",
       "      <td>0.000000</td>\n",
       "      <td>0.000000</td>\n",
       "      <td>0.000000</td>\n",
       "      <td>...</td>\n",
       "      <td>0.000000</td>\n",
       "      <td>0.000000</td>\n",
       "      <td>0.000000</td>\n",
       "      <td>0.000000</td>\n",
       "      <td>0.000000</td>\n",
       "      <td>0.000000</td>\n",
       "      <td>0.000000</td>\n",
       "      <td>0.000000</td>\n",
       "      <td>NaN</td>\n",
       "      <td>959.500000</td>\n",
       "    </tr>\n",
       "    <tr>\n",
       "      <th>50%</th>\n",
       "      <td>4393.500000</td>\n",
       "      <td>4099.500000</td>\n",
       "      <td>1977.000000</td>\n",
       "      <td>0.000000</td>\n",
       "      <td>1.000000</td>\n",
       "      <td>2.000000</td>\n",
       "      <td>0.000000</td>\n",
       "      <td>0.000000</td>\n",
       "      <td>0.000000</td>\n",
       "      <td>0.000000</td>\n",
       "      <td>...</td>\n",
       "      <td>0.000000</td>\n",
       "      <td>0.000000</td>\n",
       "      <td>0.000000</td>\n",
       "      <td>0.000000</td>\n",
       "      <td>0.000000</td>\n",
       "      <td>0.000000</td>\n",
       "      <td>0.000000</td>\n",
       "      <td>0.000000</td>\n",
       "      <td>NaN</td>\n",
       "      <td>1817.000000</td>\n",
       "    </tr>\n",
       "    <tr>\n",
       "      <th>75%</th>\n",
       "      <td>5318.250000</td>\n",
       "      <td>5912.000000</td>\n",
       "      <td>1987.000000</td>\n",
       "      <td>1.000000</td>\n",
       "      <td>1.000000</td>\n",
       "      <td>4.000000</td>\n",
       "      <td>0.000000</td>\n",
       "      <td>0.000000</td>\n",
       "      <td>0.000000</td>\n",
       "      <td>0.000000</td>\n",
       "      <td>...</td>\n",
       "      <td>0.000000</td>\n",
       "      <td>0.000000</td>\n",
       "      <td>0.000000</td>\n",
       "      <td>0.000000</td>\n",
       "      <td>0.000000</td>\n",
       "      <td>0.000000</td>\n",
       "      <td>0.000000</td>\n",
       "      <td>1.000000</td>\n",
       "      <td>NaN</td>\n",
       "      <td>3873.250000</td>\n",
       "    </tr>\n",
       "    <tr>\n",
       "      <th>max</th>\n",
       "      <td>6235.000000</td>\n",
       "      <td>9967.000000</td>\n",
       "      <td>2001.000000</td>\n",
       "      <td>3.000000</td>\n",
       "      <td>1.000000</td>\n",
       "      <td>8.000000</td>\n",
       "      <td>1.000000</td>\n",
       "      <td>1.000000</td>\n",
       "      <td>1.000000</td>\n",
       "      <td>1.000000</td>\n",
       "      <td>...</td>\n",
       "      <td>1.000000</td>\n",
       "      <td>1.000000</td>\n",
       "      <td>1.000000</td>\n",
       "      <td>1.000000</td>\n",
       "      <td>1.000000</td>\n",
       "      <td>1.000000</td>\n",
       "      <td>1.000000</td>\n",
       "      <td>1.000000</td>\n",
       "      <td>NaN</td>\n",
       "      <td>4252.000000</td>\n",
       "    </tr>\n",
       "  </tbody>\n",
       "</table>\n",
       "<p>8 rows × 106 columns</p>\n",
       "</div>"
      ],
      "text/plain": [
       "        Unnamed: 0  Sample_Set_Number_x  Year_of_birth       Gender  \\\n",
       "count  3392.000000          3392.000000    3392.000000  3392.000000   \n",
       "mean   4369.319575          4178.463443    1976.589328     0.283019   \n",
       "std    1124.888664          2489.952151      12.799326     0.467871   \n",
       "min       0.000000             2.000000    1936.000000     0.000000   \n",
       "25%    3446.750000          2053.500000    1967.000000     0.000000   \n",
       "50%    4393.500000          4099.500000    1977.000000     0.000000   \n",
       "75%    5318.250000          5912.000000    1987.000000     1.000000   \n",
       "max    6235.000000          9967.000000    2001.000000     3.000000   \n",
       "\n",
       "       Respiratory_Illness_y/n  COVID_diagnosis_x  \\\n",
       "count              3392.000000        3362.000000   \n",
       "mean                  0.991156           2.841761   \n",
       "std                   0.093641           1.748363   \n",
       "min                   0.000000           1.000000   \n",
       "25%                   1.000000           1.000000   \n",
       "50%                   1.000000           2.000000   \n",
       "75%                   1.000000           4.000000   \n",
       "max                   1.000000           8.000000   \n",
       "\n",
       "       Other_viral_or_respiratory_illnesses_strep_throat_(streptococcal_bacteria)  \\\n",
       "count                                        3362.000000                            \n",
       "mean                                            0.012790                            \n",
       "std                                             0.112384                            \n",
       "min                                             0.000000                            \n",
       "25%                                             0.000000                            \n",
       "50%                                             0.000000                            \n",
       "75%                                             0.000000                            \n",
       "max                                             1.000000                            \n",
       "\n",
       "       Other_viral_or_respiratory_illnesses_another_bacterial_illness  \\\n",
       "count                                        3362.000000                \n",
       "mean                                            0.010708                \n",
       "std                                             0.102939                \n",
       "min                                             0.000000                \n",
       "25%                                             0.000000                \n",
       "50%                                             0.000000                \n",
       "75%                                             0.000000                \n",
       "max                                             1.000000                \n",
       "\n",
       "       Other_viral_or_respiratory_illnesses_flu_(influenza)  \\\n",
       "count                                        3362.000000      \n",
       "mean                                            0.020226      \n",
       "std                                             0.140794      \n",
       "min                                             0.000000      \n",
       "25%                                             0.000000      \n",
       "50%                                             0.000000      \n",
       "75%                                             0.000000      \n",
       "max                                             1.000000      \n",
       "\n",
       "       Other_viral_or_respiratory_illnesses_another_viral_illness  ...  \\\n",
       "count                                        3362.000000           ...   \n",
       "mean                                            0.014575           ...   \n",
       "std                                             0.119860           ...   \n",
       "min                                             0.000000           ...   \n",
       "25%                                             0.000000           ...   \n",
       "50%                                             0.000000           ...   \n",
       "75%                                             0.000000           ...   \n",
       "max                                             1.000000           ...   \n",
       "\n",
       "       Symptoms_loss_of_appetite_y  Symptoms_headache_y  \\\n",
       "count                  3254.000000          3254.000000   \n",
       "mean                      0.054702             0.138291   \n",
       "std                       0.227432             0.345259   \n",
       "min                       0.000000             0.000000   \n",
       "25%                       0.000000             0.000000   \n",
       "50%                       0.000000             0.000000   \n",
       "75%                       0.000000             0.000000   \n",
       "max                       1.000000             1.000000   \n",
       "\n",
       "       Symptoms_muscle_aches_y  Symptoms_fatigue_y  Symptoms_diarrhea_y  \\\n",
       "count              3254.000000         3254.000000          3254.000000   \n",
       "mean                  0.095882            0.240627             0.038722   \n",
       "std                   0.294475            0.427530             0.192960   \n",
       "min                   0.000000            0.000000             0.000000   \n",
       "25%                   0.000000            0.000000             0.000000   \n",
       "50%                   0.000000            0.000000             0.000000   \n",
       "75%                   0.000000            0.000000             0.000000   \n",
       "max                   1.000000            1.000000             1.000000   \n",
       "\n",
       "       Symptoms_abdominal_pain_y  Symptoms_nausea_y  Symptoms_no_symptoms_y  \\\n",
       "count                3254.000000        3254.000000             3254.000000   \n",
       "mean                    0.041487           0.035648                0.364782   \n",
       "std                     0.199445           0.185441                0.481443   \n",
       "min                     0.000000           0.000000                0.000000   \n",
       "25%                     0.000000           0.000000                0.000000   \n",
       "50%                     0.000000           0.000000                0.000000   \n",
       "75%                     0.000000           0.000000                1.000000   \n",
       "max                     1.000000           1.000000                1.000000   \n",
       "\n",
       "       Sample_Completion_Time  Unnamed: 0.1  \n",
       "count                     0.0     16.000000  \n",
       "mean                      NaN   2319.437500  \n",
       "std                       NaN   1551.024649  \n",
       "min                       NaN    262.000000  \n",
       "25%                       NaN    959.500000  \n",
       "50%                       NaN   1817.000000  \n",
       "75%                       NaN   3873.250000  \n",
       "max                       NaN   4252.000000  \n",
       "\n",
       "[8 rows x 106 columns]"
      ]
     },
     "execution_count": 10,
     "metadata": {},
     "output_type": "execute_result"
    }
   ],
   "source": [
    "data.describe()"
   ]
  },
  {
   "cell_type": "markdown",
   "metadata": {},
   "source": [
    "# Relevant column names:"
   ]
  },
  {
   "cell_type": "markdown",
   "metadata": {},
   "source": [
    "\n",
    "\n",
    "Date_of_onset ,\n",
    "\n",
    "Smell_before_illness,\n",
    "\n",
    "Blocked_nose_before_illness,\n",
    "\n",
    "Taste_before_illness,\n",
    "\n",
    "Chemethesis_before_illness,\n",
    "\n",
    "FOLLOWUP\n",
    "\n",
    "Smell_current\n",
    "\n",
    "Taste_current\n",
    "\n",
    "Email_Time_Stamp_y\n"
   ]
  },
  {
   "cell_type": "markdown",
   "metadata": {},
   "source": [
    "# Percentages of recovery"
   ]
  },
  {
   "cell_type": "code",
   "execution_count": 118,
   "metadata": {},
   "outputs": [
    {
     "data": {
      "text/plain": [
       "3392"
      ]
     },
     "execution_count": 118,
     "metadata": {},
     "output_type": "execute_result"
    }
   ],
   "source": [
    "data['percentage_recovery_smell'] = data['Smell_current'] / data['Smell_before_illness'] * 100\n",
    "data['percentage_recovery_taste'] = data['Taste_current'] / data['Taste_before_illness'] * 100\n",
    "len(data)"
   ]
  },
  {
   "cell_type": "code",
   "execution_count": 119,
   "metadata": {},
   "outputs": [],
   "source": [
    "data_excluded_prior = data.copy()"
   ]
  },
  {
   "cell_type": "code",
   "execution_count": null,
   "metadata": {},
   "outputs": [],
   "source": [
    "Excluding cases with prior "
   ]
  },
  {
   "cell_type": "code",
   "execution_count": 120,
   "metadata": {},
   "outputs": [],
   "source": [
    "data_excluded_prior = data.query('Smell_before_illness > 50')\n",
    "data_excluded_prior = data_excluded_prior.query('Taste_before_illness > 50')"
   ]
  },
  {
   "cell_type": "code",
   "execution_count": 121,
   "metadata": {},
   "outputs": [
    {
     "data": {
      "text/plain": [
       "3212"
      ]
     },
     "execution_count": 121,
     "metadata": {},
     "output_type": "execute_result"
    }
   ],
   "source": [
    "len(data_excluded_prior)"
   ]
  },
  {
   "cell_type": "code",
   "execution_count": 16,
   "metadata": {},
   "outputs": [
    {
     "data": {
      "text/plain": [
       "0     34.636872\n",
       "1     30.171544\n",
       "2     48.419980\n",
       "3     99.600000\n",
       "4    101.522843\n",
       "Name: percentage_recovery_smell, dtype: float64"
      ]
     },
     "execution_count": 16,
     "metadata": {},
     "output_type": "execute_result"
    }
   ],
   "source": [
    "data['percentage_recovery_smell'].head()"
   ]
  },
  {
   "cell_type": "markdown",
   "metadata": {},
   "source": [
    "# Long haulers count\n",
    "Number of individuals with changes (under 80%)\n",
    "\n",
    "<u> smell </u>"
   ]
  },
  {
   "cell_type": "code",
   "execution_count": 132,
   "metadata": {},
   "outputs": [
    {
     "data": {
      "text/plain": [
       "1709"
      ]
     },
     "execution_count": 132,
     "metadata": {},
     "output_type": "execute_result"
    }
   ],
   "source": [
    "len(data_excluded_prior.query('percentage_recovery_smell < 80'))"
   ]
  },
  {
   "cell_type": "code",
   "execution_count": 133,
   "metadata": {},
   "outputs": [
    {
     "data": {
      "text/plain": [
       "1360"
      ]
     },
     "execution_count": 133,
     "metadata": {},
     "output_type": "execute_result"
    }
   ],
   "source": [
    "len(data_excluded_prior.query('percentage_recovery_smell < 70'))"
   ]
  },
  {
   "cell_type": "code",
   "execution_count": 134,
   "metadata": {},
   "outputs": [
    {
     "data": {
      "text/plain": [
       "414"
      ]
     },
     "execution_count": 134,
     "metadata": {},
     "output_type": "execute_result"
    }
   ],
   "source": [
    "len(data_excluded_prior.query('percentage_recovery_smell > 100'))\n"
   ]
  },
  {
   "cell_type": "markdown",
   "metadata": {},
   "source": [
    "interestingly there are 414 cases with higher percentage than the beggining"
   ]
  },
  {
   "cell_type": "markdown",
   "metadata": {},
   "source": [
    "Number of individuals with changes (under 80%)\n",
    "\n",
    "<u> taste </u>"
   ]
  },
  {
   "cell_type": "code",
   "execution_count": 138,
   "metadata": {},
   "outputs": [
    {
     "data": {
      "text/plain": [
       "1183"
      ]
     },
     "execution_count": 138,
     "metadata": {},
     "output_type": "execute_result"
    }
   ],
   "source": [
    "len(data_excluded_prior.query('percentage_recovery_taste < 80'))"
   ]
  },
  {
   "cell_type": "code",
   "execution_count": 139,
   "metadata": {},
   "outputs": [
    {
     "data": {
      "text/plain": [
       "870"
      ]
     },
     "execution_count": 139,
     "metadata": {},
     "output_type": "execute_result"
    }
   ],
   "source": [
    "len(data_excluded_prior.query('percentage_recovery_taste < 70'))"
   ]
  },
  {
   "cell_type": "code",
   "execution_count": 140,
   "metadata": {},
   "outputs": [
    {
     "data": {
      "text/plain": [
       "657"
      ]
     },
     "execution_count": 140,
     "metadata": {},
     "output_type": "execute_result"
    }
   ],
   "source": [
    "len(data_excluded_prior.query('percentage_recovery_taste > 100'))"
   ]
  },
  {
   "cell_type": "markdown",
   "metadata": {},
   "source": [
    "here there are 657 (!) cases"
   ]
  },
  {
   "cell_type": "markdown",
   "metadata": {},
   "source": [
    "# DATE DELTA"
   ]
  },
  {
   "cell_type": "code",
   "execution_count": 141,
   "metadata": {},
   "outputs": [],
   "source": [
    "data_excluded_prior['Date_of_onset'] = pd.to_datetime(data_excluded_prior['Date_of_onset'])\n",
    "data_excluded_prior['Email_Time_Stamp_y'] = pd.to_datetime(data_excluded_prior['Email_Time_Stamp_y'])"
   ]
  },
  {
   "cell_type": "code",
   "execution_count": 142,
   "metadata": {},
   "outputs": [],
   "source": [
    "data_excluded_prior['days_from_onset'] = ((data_excluded_prior['Email_Time_Stamp_y'] - data_excluded_prior['Date_of_onset']).dt.total_seconds()/(60*60*24))"
   ]
  },
  {
   "cell_type": "code",
   "execution_count": 143,
   "metadata": {},
   "outputs": [
    {
     "data": {
      "text/plain": [
       "0    194.604861\n",
       "1    182.605556\n",
       "2    169.606250\n",
       "3    203.608333\n",
       "4    175.609028\n",
       "Name: days_from_onset, dtype: float64"
      ]
     },
     "execution_count": 143,
     "metadata": {},
     "output_type": "execute_result"
    }
   ],
   "source": [
    "data_excluded_prior['days_from_onset'].head()"
   ]
  },
  {
   "cell_type": "code",
   "execution_count": null,
   "metadata": {},
   "outputs": [],
   "source": []
  }
 ],
 "metadata": {
  "kernelspec": {
   "display_name": "Python 3",
   "language": "python",
   "name": "python3"
  },
  "language_info": {
   "codemirror_mode": {
    "name": "ipython",
    "version": 3
   },
   "file_extension": ".py",
   "mimetype": "text/x-python",
   "name": "python",
   "nbconvert_exporter": "python",
   "pygments_lexer": "ipython3",
   "version": "3.7.6"
  }
 },
 "nbformat": 4,
 "nbformat_minor": 4
}
