{
 "cells": [
  {
   "cell_type": "markdown",
   "metadata": {},
   "source": [
    "# Import libraries"
   ]
  },
  {
   "cell_type": "code",
   "execution_count": 1,
   "metadata": {},
   "outputs": [],
   "source": [
    "import pandas as pd\n",
    "import datetime as dt"
   ]
  },
  {
   "cell_type": "markdown",
   "metadata": {},
   "source": [
    "# Import data"
   ]
  },
  {
   "cell_type": "code",
   "execution_count": 2,
   "metadata": {},
   "outputs": [],
   "source": [
    "data = pd.read_csv(r'C:/Users/bicers/gccr003_data.csv',sep=';',encoding='unicode_escape')\n",
    "\n",
    "data = data.dropna()"
   ]
  },
  {
   "cell_type": "markdown",
   "metadata": {},
   "source": [
    "# Convert DateTime data types"
   ]
  },
  {
   "cell_type": "code",
   "execution_count": 3,
   "metadata": {},
   "outputs": [],
   "source": [
    "data[\"Date_of_onset\"] = pd.to_datetime(data[\"Date_of_onset\"]) \n",
    "data[\"Date_of_onset_Time_Stamp\"] = pd.to_datetime(data[\"Date_of_onset_Time_Stamp\"])\n",
    "data[\"Smell_before_illness_Time_Stamp\"] = pd.to_datetime(data[\"Smell_before_illness_Time_Stamp\"])\n",
    "data[\"Smell_during_illness_Time_Stamp\"] = pd.to_datetime(data[\"Smell_during_illness_Time_Stamp\"])\n",
    "data[\"Taste_before_illness_Time_Stamp\"] = pd.to_datetime(data[\"Taste_before_illness_Time_Stamp\"])\n",
    "data[\"Taste_during_illness_Time_Stamp\"] = pd.to_datetime(data[\"Taste_during_illness_Time_Stamp\"])\n",
    "data[\"Smell_after_illness_Time_Stamp\"] = pd.to_datetime(data[\"Smell_after_illness_Time_Stamp\"])\n",
    "data[\"Taste_after_illness_Time_Stamp\"] = pd.to_datetime(data[\"Taste_after_illness_Time_Stamp\"])\n",
    "data[\"Smell_current_Time_Stamp\"] = pd.to_datetime(data[\"Smell_current_Time_Stamp\"])\n",
    "data[\"Smell_most_impaired_Time_Stamp\"] = pd.to_datetime(data[\"Smell_most_impaired_Time_Stamp\"])\n",
    "data[\"Taste_current_Time_Stamp\"] = pd.to_datetime(data[\"Taste_current_Time_Stamp\"])\n",
    "data[\"Taste_most_impaired_Time_Stamp\"] = pd.to_datetime(data[\"Taste_most_impaired_Time_Stamp\"])"
   ]
  },
  {
   "cell_type": "markdown",
   "metadata": {},
   "source": [
    "# Pre-Process"
   ]
  },
  {
   "cell_type": "code",
   "execution_count": 4,
   "metadata": {},
   "outputs": [
    {
     "name": "stdout",
     "output_type": "stream",
     "text": [
      "<class 'pandas.core.frame.DataFrame'>\n",
      "Int64Index: 2484 entries, 0 to 3391\n",
      "Data columns (total 26 columns):\n",
      " #   Column                           Non-Null Count  Dtype         \n",
      "---  ------                           --------------  -----         \n",
      " 0   Test_Name_x                      2484 non-null   object        \n",
      " 1   Sample_Set_Number_x              2484 non-null   int64         \n",
      " 2   Year_of_birth                    2484 non-null   int64         \n",
      " 3   Date_of_onset                    2484 non-null   datetime64[ns]\n",
      " 4   Date_of_onset_Time_Stamp         2484 non-null   datetime64[ns]\n",
      " 5   Smell_before_illness             2484 non-null   float64       \n",
      " 6   Smell_before_illness_Time_Stamp  2484 non-null   datetime64[ns]\n",
      " 7   Smell_during_illness             2484 non-null   float64       \n",
      " 8   Smell_during_illness_Time_Stamp  2484 non-null   datetime64[ns]\n",
      " 9   Taste_before_illness             2484 non-null   float64       \n",
      " 10  Taste_before_illness_Time_Stamp  2484 non-null   datetime64[ns]\n",
      " 11  Taste_during_illness             2484 non-null   float64       \n",
      " 12  Taste_during_illness_Time_Stamp  2484 non-null   datetime64[ns]\n",
      " 13  Smell_after_illness              2484 non-null   float64       \n",
      " 14  Smell_after_illness_Time_Stamp   2484 non-null   datetime64[ns]\n",
      " 15  Taste_after_illness              2484 non-null   float64       \n",
      " 16  Taste_after_illness_Time_Stamp   2484 non-null   datetime64[ns]\n",
      " 17  Test_Name_y                      2484 non-null   object        \n",
      " 18  Smell_current                    2484 non-null   float64       \n",
      " 19  Smell_current_Time_Stamp         2484 non-null   datetime64[ns]\n",
      " 20  Smell_most_impaired              2484 non-null   float64       \n",
      " 21  Smell_most_impaired_Time_Stamp   2484 non-null   datetime64[ns]\n",
      " 22  Taste_current                    2484 non-null   float64       \n",
      " 23  Taste_current_Time_Stamp         2484 non-null   datetime64[ns]\n",
      " 24  Taste_most_impaired              2484 non-null   float64       \n",
      " 25  Taste_most_impaired_Time_Stamp   2484 non-null   datetime64[ns]\n",
      "dtypes: datetime64[ns](12), float64(10), int64(2), object(2)\n",
      "memory usage: 524.0+ KB\n"
     ]
    }
   ],
   "source": [
    "data.info()"
   ]
  },
  {
   "cell_type": "code",
   "execution_count": 5,
   "metadata": {},
   "outputs": [
    {
     "data": {
      "text/html": [
       "<div>\n",
       "<style scoped>\n",
       "    .dataframe tbody tr th:only-of-type {\n",
       "        vertical-align: middle;\n",
       "    }\n",
       "\n",
       "    .dataframe tbody tr th {\n",
       "        vertical-align: top;\n",
       "    }\n",
       "\n",
       "    .dataframe thead th {\n",
       "        text-align: right;\n",
       "    }\n",
       "</style>\n",
       "<table border=\"1\" class=\"dataframe\">\n",
       "  <thead>\n",
       "    <tr style=\"text-align: right;\">\n",
       "      <th></th>\n",
       "      <th>Sample_Set_Number_x</th>\n",
       "      <th>Year_of_birth</th>\n",
       "      <th>Smell_before_illness</th>\n",
       "      <th>Smell_during_illness</th>\n",
       "      <th>Taste_before_illness</th>\n",
       "      <th>Taste_during_illness</th>\n",
       "      <th>Smell_after_illness</th>\n",
       "      <th>Taste_after_illness</th>\n",
       "      <th>Smell_current</th>\n",
       "      <th>Smell_most_impaired</th>\n",
       "      <th>Taste_current</th>\n",
       "      <th>Taste_most_impaired</th>\n",
       "    </tr>\n",
       "  </thead>\n",
       "  <tbody>\n",
       "    <tr>\n",
       "      <th>count</th>\n",
       "      <td>2484.000000</td>\n",
       "      <td>2484.000000</td>\n",
       "      <td>2484.000000</td>\n",
       "      <td>2484.000000</td>\n",
       "      <td>2484.000000</td>\n",
       "      <td>2484.000000</td>\n",
       "      <td>2484.000000</td>\n",
       "      <td>2484.000000</td>\n",
       "      <td>2484.000000</td>\n",
       "      <td>2484.000000</td>\n",
       "      <td>2484.000000</td>\n",
       "      <td>2484.000000</td>\n",
       "    </tr>\n",
       "    <tr>\n",
       "      <th>mean</th>\n",
       "      <td>4098.959742</td>\n",
       "      <td>1976.762077</td>\n",
       "      <td>91.436554</td>\n",
       "      <td>6.764895</td>\n",
       "      <td>92.357166</td>\n",
       "      <td>20.554670</td>\n",
       "      <td>36.696739</td>\n",
       "      <td>47.512882</td>\n",
       "      <td>63.166828</td>\n",
       "      <td>5.426167</td>\n",
       "      <td>74.256039</td>\n",
       "      <td>17.530636</td>\n",
       "    </tr>\n",
       "    <tr>\n",
       "      <th>std</th>\n",
       "      <td>2493.497874</td>\n",
       "      <td>12.669764</td>\n",
       "      <td>14.011853</td>\n",
       "      <td>16.890110</td>\n",
       "      <td>11.884096</td>\n",
       "      <td>26.645381</td>\n",
       "      <td>33.532581</td>\n",
       "      <td>33.332785</td>\n",
       "      <td>29.040521</td>\n",
       "      <td>15.628023</td>\n",
       "      <td>25.099865</td>\n",
       "      <td>27.713030</td>\n",
       "    </tr>\n",
       "    <tr>\n",
       "      <th>min</th>\n",
       "      <td>2.000000</td>\n",
       "      <td>1938.000000</td>\n",
       "      <td>0.000000</td>\n",
       "      <td>0.000000</td>\n",
       "      <td>0.000000</td>\n",
       "      <td>0.000000</td>\n",
       "      <td>0.000000</td>\n",
       "      <td>0.000000</td>\n",
       "      <td>0.000000</td>\n",
       "      <td>0.000000</td>\n",
       "      <td>0.000000</td>\n",
       "      <td>0.000000</td>\n",
       "    </tr>\n",
       "    <tr>\n",
       "      <th>25%</th>\n",
       "      <td>1982.000000</td>\n",
       "      <td>1967.000000</td>\n",
       "      <td>87.900000</td>\n",
       "      <td>0.000000</td>\n",
       "      <td>88.900000</td>\n",
       "      <td>0.700000</td>\n",
       "      <td>4.400000</td>\n",
       "      <td>14.275000</td>\n",
       "      <td>44.400000</td>\n",
       "      <td>0.000000</td>\n",
       "      <td>62.075000</td>\n",
       "      <td>0.200000</td>\n",
       "    </tr>\n",
       "    <tr>\n",
       "      <th>50%</th>\n",
       "      <td>3965.500000</td>\n",
       "      <td>1977.000000</td>\n",
       "      <td>97.750000</td>\n",
       "      <td>0.700000</td>\n",
       "      <td>97.400000</td>\n",
       "      <td>8.500000</td>\n",
       "      <td>26.700000</td>\n",
       "      <td>49.500000</td>\n",
       "      <td>69.900000</td>\n",
       "      <td>0.400000</td>\n",
       "      <td>81.900000</td>\n",
       "      <td>3.450000</td>\n",
       "    </tr>\n",
       "    <tr>\n",
       "      <th>75%</th>\n",
       "      <td>5869.000000</td>\n",
       "      <td>1987.000000</td>\n",
       "      <td>100.000000</td>\n",
       "      <td>4.500000</td>\n",
       "      <td>100.000000</td>\n",
       "      <td>29.600000</td>\n",
       "      <td>66.525000</td>\n",
       "      <td>77.100000</td>\n",
       "      <td>86.925000</td>\n",
       "      <td>3.200000</td>\n",
       "      <td>93.800000</td>\n",
       "      <td>20.500000</td>\n",
       "    </tr>\n",
       "    <tr>\n",
       "      <th>max</th>\n",
       "      <td>9967.000000</td>\n",
       "      <td>2001.000000</td>\n",
       "      <td>100.000000</td>\n",
       "      <td>100.000000</td>\n",
       "      <td>100.000000</td>\n",
       "      <td>100.000000</td>\n",
       "      <td>100.000000</td>\n",
       "      <td>100.000000</td>\n",
       "      <td>100.000000</td>\n",
       "      <td>100.000000</td>\n",
       "      <td>100.000000</td>\n",
       "      <td>100.000000</td>\n",
       "    </tr>\n",
       "  </tbody>\n",
       "</table>\n",
       "</div>"
      ],
      "text/plain": [
       "       Sample_Set_Number_x  Year_of_birth  Smell_before_illness  \\\n",
       "count          2484.000000    2484.000000           2484.000000   \n",
       "mean           4098.959742    1976.762077             91.436554   \n",
       "std            2493.497874      12.669764             14.011853   \n",
       "min               2.000000    1938.000000              0.000000   \n",
       "25%            1982.000000    1967.000000             87.900000   \n",
       "50%            3965.500000    1977.000000             97.750000   \n",
       "75%            5869.000000    1987.000000            100.000000   \n",
       "max            9967.000000    2001.000000            100.000000   \n",
       "\n",
       "       Smell_during_illness  Taste_before_illness  Taste_during_illness  \\\n",
       "count           2484.000000           2484.000000           2484.000000   \n",
       "mean               6.764895             92.357166             20.554670   \n",
       "std               16.890110             11.884096             26.645381   \n",
       "min                0.000000              0.000000              0.000000   \n",
       "25%                0.000000             88.900000              0.700000   \n",
       "50%                0.700000             97.400000              8.500000   \n",
       "75%                4.500000            100.000000             29.600000   \n",
       "max              100.000000            100.000000            100.000000   \n",
       "\n",
       "       Smell_after_illness  Taste_after_illness  Smell_current  \\\n",
       "count          2484.000000          2484.000000    2484.000000   \n",
       "mean             36.696739            47.512882      63.166828   \n",
       "std              33.532581            33.332785      29.040521   \n",
       "min               0.000000             0.000000       0.000000   \n",
       "25%               4.400000            14.275000      44.400000   \n",
       "50%              26.700000            49.500000      69.900000   \n",
       "75%              66.525000            77.100000      86.925000   \n",
       "max             100.000000           100.000000     100.000000   \n",
       "\n",
       "       Smell_most_impaired  Taste_current  Taste_most_impaired  \n",
       "count          2484.000000    2484.000000          2484.000000  \n",
       "mean              5.426167      74.256039            17.530636  \n",
       "std              15.628023      25.099865            27.713030  \n",
       "min               0.000000       0.000000             0.000000  \n",
       "25%               0.000000      62.075000             0.200000  \n",
       "50%               0.400000      81.900000             3.450000  \n",
       "75%               3.200000      93.800000            20.500000  \n",
       "max             100.000000     100.000000           100.000000  "
      ]
     },
     "execution_count": 5,
     "metadata": {},
     "output_type": "execute_result"
    }
   ],
   "source": [
    "data.describe()"
   ]
  },
  {
   "cell_type": "code",
   "execution_count": 6,
   "metadata": {},
   "outputs": [
    {
     "data": {
      "text/html": [
       "<div>\n",
       "<style scoped>\n",
       "    .dataframe tbody tr th:only-of-type {\n",
       "        vertical-align: middle;\n",
       "    }\n",
       "\n",
       "    .dataframe tbody tr th {\n",
       "        vertical-align: top;\n",
       "    }\n",
       "\n",
       "    .dataframe thead th {\n",
       "        text-align: right;\n",
       "    }\n",
       "</style>\n",
       "<table border=\"1\" class=\"dataframe\">\n",
       "  <thead>\n",
       "    <tr style=\"text-align: right;\">\n",
       "      <th></th>\n",
       "      <th>Test_Name_x</th>\n",
       "      <th>Sample_Set_Number_x</th>\n",
       "      <th>Year_of_birth</th>\n",
       "      <th>Date_of_onset</th>\n",
       "      <th>Date_of_onset_Time_Stamp</th>\n",
       "      <th>Smell_before_illness</th>\n",
       "      <th>Smell_before_illness_Time_Stamp</th>\n",
       "      <th>Smell_during_illness</th>\n",
       "      <th>Smell_during_illness_Time_Stamp</th>\n",
       "      <th>Taste_before_illness</th>\n",
       "      <th>...</th>\n",
       "      <th>Taste_after_illness_Time_Stamp</th>\n",
       "      <th>Test_Name_y</th>\n",
       "      <th>Smell_current</th>\n",
       "      <th>Smell_current_Time_Stamp</th>\n",
       "      <th>Smell_most_impaired</th>\n",
       "      <th>Smell_most_impaired_Time_Stamp</th>\n",
       "      <th>Taste_current</th>\n",
       "      <th>Taste_current_Time_Stamp</th>\n",
       "      <th>Taste_most_impaired</th>\n",
       "      <th>Taste_most_impaired_Time_Stamp</th>\n",
       "    </tr>\n",
       "  </thead>\n",
       "  <tbody>\n",
       "    <tr>\n",
       "      <th>0</th>\n",
       "      <td>Smell &amp; Taste Loss in potential COVID19 patien...</td>\n",
       "      <td>1996</td>\n",
       "      <td>1971</td>\n",
       "      <td>2020-03-14</td>\n",
       "      <td>2020-04-16 03:51:00</td>\n",
       "      <td>89.5</td>\n",
       "      <td>2020-04-16 03:54:00</td>\n",
       "      <td>4.8</td>\n",
       "      <td>2020-04-16 03:54:00</td>\n",
       "      <td>93.4</td>\n",
       "      <td>...</td>\n",
       "      <td>2020-04-16 04:00:00</td>\n",
       "      <td>COVID FOLLOW UP FINAL!!! [20210203133401]</td>\n",
       "      <td>31.0</td>\n",
       "      <td>2020-09-24 14:34:00</td>\n",
       "      <td>0.0</td>\n",
       "      <td>2020-09-24 14:34:00</td>\n",
       "      <td>33.7</td>\n",
       "      <td>2020-09-24 14:35:00</td>\n",
       "      <td>7.0</td>\n",
       "      <td>2020-09-24 14:35:00</td>\n",
       "    </tr>\n",
       "    <tr>\n",
       "      <th>2</th>\n",
       "      <td>Smell &amp; Taste Loss in potential COVID19 patien...</td>\n",
       "      <td>5862</td>\n",
       "      <td>1982</td>\n",
       "      <td>2020-08-04</td>\n",
       "      <td>2020-12-04 19:20:00</td>\n",
       "      <td>98.1</td>\n",
       "      <td>2020-12-04 19:21:00</td>\n",
       "      <td>99.8</td>\n",
       "      <td>2020-12-04 19:21:00</td>\n",
       "      <td>100.0</td>\n",
       "      <td>...</td>\n",
       "      <td>2020-12-04 19:25:00</td>\n",
       "      <td>COVID FOLLOW UP FINAL!!! [20210203133401]</td>\n",
       "      <td>47.5</td>\n",
       "      <td>2020-09-24 14:36:00</td>\n",
       "      <td>0.4</td>\n",
       "      <td>2020-09-24 14:36:00</td>\n",
       "      <td>48.5</td>\n",
       "      <td>2020-09-24 14:38:00</td>\n",
       "      <td>0.4</td>\n",
       "      <td>2020-09-24 14:38:00</td>\n",
       "    </tr>\n",
       "    <tr>\n",
       "      <th>3</th>\n",
       "      <td>Smell &amp; Taste Loss in potential COVID19 patien...</td>\n",
       "      <td>5321</td>\n",
       "      <td>1973</td>\n",
       "      <td>2020-05-03</td>\n",
       "      <td>2020-12-04 06:12:00</td>\n",
       "      <td>100.0</td>\n",
       "      <td>2020-12-04 06:16:00</td>\n",
       "      <td>0.0</td>\n",
       "      <td>2020-12-04 06:16:00</td>\n",
       "      <td>86.4</td>\n",
       "      <td>...</td>\n",
       "      <td>2020-12-04 06:23:00</td>\n",
       "      <td>COVID FOLLOW UP FINAL!!! [20210203133401]</td>\n",
       "      <td>99.6</td>\n",
       "      <td>2020-09-24 14:37:00</td>\n",
       "      <td>0.0</td>\n",
       "      <td>2020-09-24 14:37:00</td>\n",
       "      <td>88.1</td>\n",
       "      <td>2020-09-24 14:38:00</td>\n",
       "      <td>0.0</td>\n",
       "      <td>2020-09-24 14:38:00</td>\n",
       "    </tr>\n",
       "    <tr>\n",
       "      <th>5</th>\n",
       "      <td>Smell &amp; Taste Loss in potential COVID19 patien...</td>\n",
       "      <td>9126</td>\n",
       "      <td>1986</td>\n",
       "      <td>2020-03-23</td>\n",
       "      <td>2020-05-14 16:03:00</td>\n",
       "      <td>60.9</td>\n",
       "      <td>2020-05-14 16:11:00</td>\n",
       "      <td>1.9</td>\n",
       "      <td>2020-05-14 16:11:00</td>\n",
       "      <td>99.2</td>\n",
       "      <td>...</td>\n",
       "      <td>2020-05-14 16:14:00</td>\n",
       "      <td>COVID FOLLOW UP FINAL!!! [20210203133401]</td>\n",
       "      <td>46.7</td>\n",
       "      <td>2020-09-24 14:44:00</td>\n",
       "      <td>0.0</td>\n",
       "      <td>2020-09-24 14:44:00</td>\n",
       "      <td>74.8</td>\n",
       "      <td>2020-09-24 14:44:00</td>\n",
       "      <td>0.0</td>\n",
       "      <td>2020-09-24 14:44:00</td>\n",
       "    </tr>\n",
       "    <tr>\n",
       "      <th>7</th>\n",
       "      <td>Smell &amp; Taste Loss in potential COVID19 patien...</td>\n",
       "      <td>4797</td>\n",
       "      <td>1985</td>\n",
       "      <td>2020-03-29</td>\n",
       "      <td>2020-10-04 22:00:00</td>\n",
       "      <td>94.1</td>\n",
       "      <td>2020-10-04 22:02:00</td>\n",
       "      <td>0.0</td>\n",
       "      <td>2020-10-04 22:02:00</td>\n",
       "      <td>99.5</td>\n",
       "      <td>...</td>\n",
       "      <td>2020-10-04 22:04:00</td>\n",
       "      <td>COVID FOLLOW UP FINAL!!! [20210203133401]</td>\n",
       "      <td>61.4</td>\n",
       "      <td>2020-09-24 14:44:00</td>\n",
       "      <td>3.0</td>\n",
       "      <td>2020-09-24 14:44:00</td>\n",
       "      <td>99.5</td>\n",
       "      <td>2020-09-24 14:44:00</td>\n",
       "      <td>49.7</td>\n",
       "      <td>2020-09-24 14:44:00</td>\n",
       "    </tr>\n",
       "  </tbody>\n",
       "</table>\n",
       "<p>5 rows × 26 columns</p>\n",
       "</div>"
      ],
      "text/plain": [
       "                                         Test_Name_x  Sample_Set_Number_x  \\\n",
       "0  Smell & Taste Loss in potential COVID19 patien...                 1996   \n",
       "2  Smell & Taste Loss in potential COVID19 patien...                 5862   \n",
       "3  Smell & Taste Loss in potential COVID19 patien...                 5321   \n",
       "5  Smell & Taste Loss in potential COVID19 patien...                 9126   \n",
       "7  Smell & Taste Loss in potential COVID19 patien...                 4797   \n",
       "\n",
       "   Year_of_birth Date_of_onset Date_of_onset_Time_Stamp  Smell_before_illness  \\\n",
       "0           1971    2020-03-14      2020-04-16 03:51:00                  89.5   \n",
       "2           1982    2020-08-04      2020-12-04 19:20:00                  98.1   \n",
       "3           1973    2020-05-03      2020-12-04 06:12:00                 100.0   \n",
       "5           1986    2020-03-23      2020-05-14 16:03:00                  60.9   \n",
       "7           1985    2020-03-29      2020-10-04 22:00:00                  94.1   \n",
       "\n",
       "  Smell_before_illness_Time_Stamp  Smell_during_illness  \\\n",
       "0             2020-04-16 03:54:00                   4.8   \n",
       "2             2020-12-04 19:21:00                  99.8   \n",
       "3             2020-12-04 06:16:00                   0.0   \n",
       "5             2020-05-14 16:11:00                   1.9   \n",
       "7             2020-10-04 22:02:00                   0.0   \n",
       "\n",
       "  Smell_during_illness_Time_Stamp  Taste_before_illness  ...  \\\n",
       "0             2020-04-16 03:54:00                  93.4  ...   \n",
       "2             2020-12-04 19:21:00                 100.0  ...   \n",
       "3             2020-12-04 06:16:00                  86.4  ...   \n",
       "5             2020-05-14 16:11:00                  99.2  ...   \n",
       "7             2020-10-04 22:02:00                  99.5  ...   \n",
       "\n",
       "  Taste_after_illness_Time_Stamp                                Test_Name_y  \\\n",
       "0            2020-04-16 04:00:00  COVID FOLLOW UP FINAL!!! [20210203133401]   \n",
       "2            2020-12-04 19:25:00  COVID FOLLOW UP FINAL!!! [20210203133401]   \n",
       "3            2020-12-04 06:23:00  COVID FOLLOW UP FINAL!!! [20210203133401]   \n",
       "5            2020-05-14 16:14:00  COVID FOLLOW UP FINAL!!! [20210203133401]   \n",
       "7            2020-10-04 22:04:00  COVID FOLLOW UP FINAL!!! [20210203133401]   \n",
       "\n",
       "  Smell_current  Smell_current_Time_Stamp Smell_most_impaired  \\\n",
       "0          31.0       2020-09-24 14:34:00                 0.0   \n",
       "2          47.5       2020-09-24 14:36:00                 0.4   \n",
       "3          99.6       2020-09-24 14:37:00                 0.0   \n",
       "5          46.7       2020-09-24 14:44:00                 0.0   \n",
       "7          61.4       2020-09-24 14:44:00                 3.0   \n",
       "\n",
       "   Smell_most_impaired_Time_Stamp Taste_current Taste_current_Time_Stamp  \\\n",
       "0             2020-09-24 14:34:00          33.7      2020-09-24 14:35:00   \n",
       "2             2020-09-24 14:36:00          48.5      2020-09-24 14:38:00   \n",
       "3             2020-09-24 14:37:00          88.1      2020-09-24 14:38:00   \n",
       "5             2020-09-24 14:44:00          74.8      2020-09-24 14:44:00   \n",
       "7             2020-09-24 14:44:00          99.5      2020-09-24 14:44:00   \n",
       "\n",
       "   Taste_most_impaired Taste_most_impaired_Time_Stamp  \n",
       "0                  7.0            2020-09-24 14:35:00  \n",
       "2                  0.4            2020-09-24 14:38:00  \n",
       "3                  0.0            2020-09-24 14:38:00  \n",
       "5                  0.0            2020-09-24 14:44:00  \n",
       "7                 49.7            2020-09-24 14:44:00  \n",
       "\n",
       "[5 rows x 26 columns]"
      ]
     },
     "execution_count": 6,
     "metadata": {},
     "output_type": "execute_result"
    }
   ],
   "source": [
    "data.head()"
   ]
  },
  {
   "cell_type": "markdown",
   "metadata": {},
   "source": [
    "# Relevant column names:"
   ]
  },
  {
   "cell_type": "markdown",
   "metadata": {},
   "source": [
    "\n",
    "\n",
    "Date_of_onset ,\n",
    "\n",
    "Smell_before_illness,\n",
    "\n",
    "Blocked_nose_before_illness,\n",
    "\n",
    "Taste_before_illness,\n",
    "\n",
    "Chemethesis_before_illness,\n",
    "\n",
    "FOLLOWUP\n",
    "\n",
    "Smell_current\n",
    "\n",
    "Taste_current\n",
    "\n",
    "Email_Time_Stamp_y\n"
   ]
  },
  {
   "cell_type": "markdown",
   "metadata": {},
   "source": [
    "# Percentages of recovery"
   ]
  },
  {
   "cell_type": "code",
   "execution_count": 7,
   "metadata": {},
   "outputs": [],
   "source": [
    "data['percentage_recovery_smell'] = data['Smell_current'] / data['Smell_before_illness'] * 100\n",
    "data['percentage_recovery_taste'] = data['Taste_current'] / data['Taste_before_illness'] * 100"
   ]
  },
  {
   "cell_type": "code",
   "execution_count": 8,
   "metadata": {},
   "outputs": [
    {
     "data": {
      "text/plain": [
       "0    34.636872\n",
       "2    48.419980\n",
       "3    99.600000\n",
       "5    76.683087\n",
       "7    65.249734\n",
       "Name: percentage_recovery_smell, dtype: float64"
      ]
     },
     "execution_count": 8,
     "metadata": {},
     "output_type": "execute_result"
    }
   ],
   "source": [
    "data['percentage_recovery_smell'].head()"
   ]
  },
  {
   "cell_type": "markdown",
   "metadata": {},
   "source": [
    "# Long haulers count\n",
    "Number of individuals with changes (under 80%)\n",
    "\n",
    "<u> smell </u>"
   ]
  },
  {
   "cell_type": "code",
   "execution_count": 9,
   "metadata": {},
   "outputs": [
    {
     "data": {
      "text/plain": [
       "1340"
      ]
     },
     "execution_count": 9,
     "metadata": {},
     "output_type": "execute_result"
    }
   ],
   "source": [
    "len(data.query('percentage_recovery_smell < 80'))"
   ]
  },
  {
   "cell_type": "code",
   "execution_count": 10,
   "metadata": {},
   "outputs": [],
   "source": [
    "# len(data.query('percentage_recovery_smell < 70'))"
   ]
  },
  {
   "cell_type": "code",
   "execution_count": 11,
   "metadata": {},
   "outputs": [
    {
     "data": {
      "text/plain": [
       "375"
      ]
     },
     "execution_count": 11,
     "metadata": {},
     "output_type": "execute_result"
    }
   ],
   "source": [
    "len(data.query('percentage_recovery_smell > 100'))\n"
   ]
  },
  {
   "cell_type": "markdown",
   "metadata": {},
   "source": [
    "interestingly there are 486 cases with higher percentage than the beggining"
   ]
  },
  {
   "cell_type": "markdown",
   "metadata": {},
   "source": [
    "Number of individuals with changes (under 80%)\n",
    "\n",
    "<u> taste </u>"
   ]
  },
  {
   "cell_type": "code",
   "execution_count": 12,
   "metadata": {},
   "outputs": [
    {
     "data": {
      "text/plain": [
       "923"
      ]
     },
     "execution_count": 12,
     "metadata": {},
     "output_type": "execute_result"
    }
   ],
   "source": [
    "len(data.query('percentage_recovery_taste < 80'))"
   ]
  },
  {
   "cell_type": "code",
   "execution_count": 13,
   "metadata": {},
   "outputs": [],
   "source": [
    "# len(data.query('percentage_recovery_taste < 70'))"
   ]
  },
  {
   "cell_type": "code",
   "execution_count": 14,
   "metadata": {},
   "outputs": [],
   "source": [
    "# len(data.query('percentage_recovery_taste > 100'))"
   ]
  },
  {
   "cell_type": "markdown",
   "metadata": {},
   "source": [
    "here there are 721 (!) cases"
   ]
  },
  {
   "cell_type": "markdown",
   "metadata": {},
   "source": [
    "# DATE DELTA"
   ]
  },
  {
   "cell_type": "code",
   "execution_count": 15,
   "metadata": {},
   "outputs": [],
   "source": [
    "data['Date_of_onset'] = pd.to_datetime(data['Date_of_onset'])"
   ]
  },
  {
   "cell_type": "code",
   "execution_count": 16,
   "metadata": {},
   "outputs": [],
   "source": [
    "data['days_from_onset'] = ((data['Smell_after_illness_Time_Stamp'] - data['Date_of_onset']).dt.total_seconds()/(60*60*24))"
   ]
  },
  {
   "cell_type": "code",
   "execution_count": 17,
   "metadata": {},
   "outputs": [
    {
     "data": {
      "text/plain": [
       "0     33.166667\n",
       "2    122.809028\n",
       "3    215.265972\n",
       "5     52.676389\n",
       "7    189.919444\n",
       "Name: days_from_onset, dtype: float64"
      ]
     },
     "execution_count": 17,
     "metadata": {},
     "output_type": "execute_result"
    }
   ],
   "source": [
    "data['days_from_onset'].head()"
   ]
  },
  {
   "cell_type": "code",
   "execution_count": 25,
   "metadata": {},
   "outputs": [],
   "source": [
    "X = data[['days_from_onset']]\n",
    "y = data['Smell_before_illness'] - data['Smell_after_illness']"
   ]
  },
  {
   "cell_type": "code",
   "execution_count": 26,
   "metadata": {},
   "outputs": [
    {
     "data": {
      "text/plain": [
       "LinearRegression()"
      ]
     },
     "execution_count": 26,
     "metadata": {},
     "output_type": "execute_result"
    }
   ],
   "source": [
    "from sklearn.model_selection import train_test_split\n",
    "X_train, X_test, y_train, y_test = train_test_split(X, y, test_size=0.2)\n",
    "from sklearn.linear_model import LinearRegression\n",
    "lm = LinearRegression()\n",
    "lm.fit(X_train,y_train)"
   ]
  },
  {
   "cell_type": "code",
   "execution_count": 29,
   "metadata": {},
   "outputs": [
    {
     "name": "stdout",
     "output_type": "stream",
     "text": [
      "Coefficients: \n",
      " [0.00669949]\n"
     ]
    },
    {
     "data": {
      "text/plain": [
       "Text(0, 0.5, 'Predicted Y')"
      ]
     },
     "execution_count": 29,
     "metadata": {},
     "output_type": "execute_result"
    },
    {
     "data": {
      "image/png": "[encoded data removed]",
      "text/plain": [
       "<Figure size 432x288 with 1 Axes>"
      ]
     },
     "metadata": {
      "needs_background": "light"
     },
     "output_type": "display_data"
    }
   ],
   "source": [
    "import matplotlib.pyplot as plt\n",
    "print('Coefficients: \\n', lm.coef_)\n",
    "predictions = lm.predict(X_test)\n",
    "plt.scatter(y_test, predictions)\n",
    "plt.xlabel('Y Test')\n",
    "plt.ylabel('Predicted Y')"
   ]
  },
  {
   "cell_type": "code",
   "execution_count": 31,
   "metadata": {},
   "outputs": [
    {
     "name": "stdout",
     "output_type": "stream",
     "text": [
      "MAE: 31.062656189433984\n",
      "MSE: 1303.0344902660368\n",
      "RMSE: 36.097569035407865\n"
     ]
    }
   ],
   "source": [
    "from sklearn import metrics\n",
    "import numpy as np\n",
    "\n",
    "print('MAE:', metrics.mean_absolute_error(y_test, predictions))\n",
    "print('MSE:', metrics.mean_squared_error(y_test, predictions))\n",
    "print('RMSE:', np.sqrt(metrics.mean_squared_error(y_test, predictions)))"
   ]
  },
  {
   "cell_type": "code",
   "execution_count": null,
   "metadata": {},
   "outputs": [],
   "source": []
  }
 ],
 "metadata": {
  "kernelspec": {
   "display_name": "Python 3",
   "language": "python",
   "name": "python3"
  },
  "language_info": {
   "codemirror_mode": {
    "name": "ipython",
    "version": 3
   },
   "file_extension": ".py",
   "mimetype": "text/x-python",
   "name": "python",
   "nbconvert_exporter": "python",
   "pygments_lexer": "ipython3",
   "version": "3.8.5"
  }
 },
 "nbformat": 4,
 "nbformat_minor": 4
}
